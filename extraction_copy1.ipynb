{
  "nbformat": 4,
  "nbformat_minor": 0,
  "metadata": {
    "colab": {
      "provenance": []
    },
    "kernelspec": {
      "name": "python3",
      "display_name": "Python 3"
    },
    "language_info": {
      "name": "python"
    }
  },
  "cells": [
    {
      "cell_type": "code",
      "execution_count": null,
      "metadata": {
        "id": "Uqcv5CkMgr2J"
      },
      "outputs": [],
      "source": [
        "!pip install sec-api"
      ]
    },
    {
      "cell_type": "code",
      "source": [
        "from google.colab import drive\n",
        "drive.mount('/content/drive')"
      ],
      "metadata": {
        "id": "FshGkar9guox"
      },
      "execution_count": null,
      "outputs": []
    },
    {
      "cell_type": "code",
      "source": [
        "#read from the saved dataframe\n",
        "import pandas as pd\n",
        "df_filings1000 = pd.read_csv('/content/drive/MyDrive/links10K.csv')"
      ],
      "metadata": {
        "id": "VJilpmpLgurl"
      },
      "execution_count": null,
      "outputs": []
    },
    {
      "cell_type": "code",
      "source": [
        "df_filings1000.head(3)"
      ],
      "metadata": {
        "id": "aBA1qHflguuQ"
      },
      "execution_count": null,
      "outputs": []
    },
    {
      "cell_type": "code",
      "source": [
        "df_filings1000.shape"
      ],
      "metadata": {
        "id": "YOOB6Fy-guxJ"
      },
      "execution_count": null,
      "outputs": []
    },
    {
      "cell_type": "code",
      "source": [
        "from sec_api import ExtractorApi\n",
        "extractorApi = ExtractorApi(api_key=\"b2612513368fb380c7eb8976321e47dda0a1ae61c4d43d9cf1a7956c37ff5ec9\")"
      ],
      "metadata": {
        "id": "BOde6Uloguzt"
      },
      "execution_count": null,
      "outputs": []
    },
    {
      "cell_type": "code",
      "source": [
        "t=0\n",
        "all_10k_risks1A=[]\n",
        "all_10k_risks7=[]\n",
        "all_10k_risks7A=[]\n",
        "for i in df_filings1000['linkToFilingDetails'][5000:10000]:\n",
        "    item_1_a_text  = extractorApi.get_section(i, '1A', 'text')\n",
        "    item_7_text = extractorApi.get_section(i, '7', 'text')\n",
        "    item_7A_text = extractorApi.get_section(i, '7A', 'text')\n",
        "    all_10k_risks1A.append(item_1_a_text)\n",
        "    all_10k_risks7.append(item_7_text)\n",
        "    all_10k_risks7A.append(item_7A_text)\n",
        "    print(t)\n",
        "    t=t+1"
      ],
      "metadata": {
        "id": "6rws9qTIhJ12"
      },
      "execution_count": null,
      "outputs": []
    },
    {
      "cell_type": "code",
      "source": [
        "print(df_filings1000.shape)\n",
        "print(len((all_10k_risks1A)))\n",
        "print(len((all_10k_risks7)))\n",
        "print(len((all_10k_risks7A)))"
      ],
      "metadata": {
        "id": "9a5-GG94hJ40"
      },
      "execution_count": null,
      "outputs": []
    },
    {
      "cell_type": "code",
      "source": [
        "#create a mini df with all the risk factors\n",
        "mini = df_filings1000[5000:10000]\n",
        "mini['10k_risks1A'] = all_10k_risks1A[5000:10000]\n",
        "mini['10k_risks7'] = all_10k_risks7[5000:10000]\n",
        "mini['10k_risks7A'] = all_10k_risks7A[5000:10000]"
      ],
      "metadata": {
        "id": "XUUvs4dQhSo6"
      },
      "execution_count": null,
      "outputs": []
    },
    {
      "cell_type": "code",
      "source": [
        "mini.head()"
      ],
      "metadata": {
        "id": "XdqvxQg8hSrd"
      },
      "execution_count": null,
      "outputs": []
    },
    {
      "cell_type": "code",
      "source": [
        "#save the dataframe mini\n",
        "mini.to_csv('/content/drive/MyDrive/SECRisks/2secRisks10K.csv')"
      ],
      "metadata": {
        "id": "-pc9EZNXhJ7M"
      },
      "execution_count": null,
      "outputs": []
    }
  ]
}